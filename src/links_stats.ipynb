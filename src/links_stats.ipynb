{
 "cells": [
  {
   "cell_type": "code",
   "execution_count": 1,
   "id": "4193eb74",
   "metadata": {},
   "outputs": [],
   "source": [
    "import numpy as np"
   ]
  },
  {
   "cell_type": "code",
   "execution_count": 2,
   "id": "feffbd07",
   "metadata": {},
   "outputs": [],
   "source": [
    "# Parametri degli esperimenti effettuati\n",
    "architectures = (\"4_4\", \"10_3\")\n",
    "sampling_methods = (\"r\", \"km\")\n",
    "imgs_per_class = (10, 20, 40, 80)"
   ]
  },
  {
   "cell_type": "code",
   "execution_count": 3,
   "id": "34e0c461",
   "metadata": {},
   "outputs": [],
   "source": [
    "# Funzione per il calcolo del numero di pesi e link di una singola BNN\n",
    "def ensemble_comp_stats(architecture, sampling_method, n_imgs):\n",
    "    layers = architecture.split(\"_\")\n",
    "    total_ensemble = 0\n",
    "    links_ensemble = 0\n",
    "    \n",
    "    for i in range(10):\n",
    "        for j in range(i+1, 10):\n",
    "            folder_out = \"../results/ensemble/gd_t/%d_%d/%s/%d/\"%(int(layers[0]), int(layers[1]), sampling_method, n_imgs)\n",
    "            file_out = folder_out + \"bnn%d%d_%d_%d_%d.npz\"%(i, j, int(layers[0]), int(layers[1]), n_imgs)\n",
    "            \n",
    "            # Calcolo pesi e link della singola BNN dell'ensemble\n",
    "            with open(file_out, \"rb\") as file:\n",
    "                nn_data = np.load(file, allow_pickle=True)\n",
    "                weights = [nn_data[\"w0\"], nn_data[\"w1\"], nn_data[\"w2\"]]\n",
    "                bias = [nn_data[\"b0\"], nn_data[\"b1\"], nn_data[\"b2\"]]\n",
    "\n",
    "                total_w = 0\n",
    "                links = 0\n",
    "\n",
    "                # Calcolo dei numero totale di pesi e dei collegamenti\n",
    "                for wl in weights:\n",
    "                    for wv in wl:\n",
    "                        for w in wv:\n",
    "                            links += np.abs(w)\n",
    "                            total_w += 1\n",
    "\n",
    "                            \n",
    "                total_ensemble += total_w\n",
    "                links_ensemble += links\n",
    "\n",
    "    return total_ensemble, links_ensemble"
   ]
  },
  {
   "cell_type": "code",
   "execution_count": 4,
   "id": "81b632d1",
   "metadata": {},
   "outputs": [],
   "source": [
    "stats = dict()\n",
    "\n",
    "for arch in architectures:\n",
    "    for method in sampling_methods:\n",
    "        for imgs in imgs_per_class:\n",
    "            key = arch + \"_\" + method + \"_\" + str(imgs)\n",
    "            t, l = ensemble_comp_stats(arch, method, imgs)\n",
    "            l_ratio = round(l/t*100, 2) \n",
    "            exp_stats = (t, l, l_ratio)\n",
    "            stats[key] = exp_stats"
   ]
  },
  {
   "cell_type": "code",
   "execution_count": 5,
   "id": "6027ea89",
   "metadata": {},
   "outputs": [
    {
     "name": "stdout",
     "output_type": "stream",
     "text": [
      "{'4_4_r_10': (142020, 36484.0, 25.69), '4_4_r_20': (142020, 39837.0, 28.05), '4_4_r_40': (142020, 42167.0, 29.69), '4_4_r_80': (142020, 44221.0, 31.14), '4_4_km_10': (142020, 30675.0, 21.6), '4_4_km_20': (142020, 32959.0, 23.21), '4_4_km_40': (142020, 34101.0, 24.01), '4_4_km_80': (142020, 36222.0, 25.5), '10_3_r_10': (354285, 91204.0, 25.74), '10_3_r_20': (354285, 99908.0, 28.2), '10_3_r_40': (354285, 105655.0, 29.82), '10_3_r_80': (354285, 110708.0, 31.25), '10_3_km_10': (354285, 76612.0, 21.62), '10_3_km_20': (354285, 82185.0, 23.2), '10_3_km_40': (354285, 85094.0, 24.02), '10_3_km_80': (354285, 90604.0, 25.57)}\n"
     ]
    }
   ],
   "source": [
    "print(stats)"
   ]
  }
 ],
 "metadata": {
  "kernelspec": {
   "display_name": "Python 3",
   "language": "python",
   "name": "python3"
  },
  "language_info": {
   "codemirror_mode": {
    "name": "ipython",
    "version": 3
   },
   "file_extension": ".py",
   "mimetype": "text/x-python",
   "name": "python",
   "nbconvert_exporter": "python",
   "pygments_lexer": "ipython3",
   "version": "3.6.13"
  }
 },
 "nbformat": 4,
 "nbformat_minor": 5
}
